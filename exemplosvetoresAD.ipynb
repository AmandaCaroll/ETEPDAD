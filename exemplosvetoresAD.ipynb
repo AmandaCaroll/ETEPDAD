{
  "nbformat": 4,
  "nbformat_minor": 0,
  "metadata": {
    "colab": {
      "name": "exemplosvetoresAD.ipynb",
      "provenance": [],
      "authorship_tag": "ABX9TyOCeZm6VamtzI4qMFMGNd5/",
      "include_colab_link": true
    },
    "kernelspec": {
      "name": "python3",
      "display_name": "Python 3"
    },
    "language_info": {
      "name": "python"
    }
  },
  "cells": [
    {
      "cell_type": "markdown",
      "metadata": {
        "id": "view-in-github",
        "colab_type": "text"
      },
      "source": [
        "<a href=\"https://colab.research.google.com/github/clovesrocha/ETEPDAD/blob/master/exemplosvetoresAD.ipynb\" target=\"_parent\"><img src=\"https://colab.research.google.com/assets/colab-badge.svg\" alt=\"Open In Colab\"/></a>"
      ]
    },
    {
      "cell_type": "code",
      "metadata": {
        "id": "oJPp04BQcf5E"
      },
      "source": [
        "# ETE PORTO DIGITAL\n",
        "# DISCIPLINA: AD\n",
        "# PROF.: CLOVES ROCHA\n",
        "# EXEMPLOS EXTRA DE VETORES EM PYTHON:"
      ],
      "execution_count": null,
      "outputs": []
    },
    {
      "cell_type": "code",
      "metadata": {
        "colab": {
          "base_uri": "https://localhost:8080/"
        },
        "id": "oUq3Egw6cpnY",
        "outputId": "731c7c51-141f-4a52-a726-36f701697f9a"
      },
      "source": [
        "vetorcpf = [100, 110, 120]\n",
        "print(vetorcpf)"
      ],
      "execution_count": 1,
      "outputs": [
        {
          "output_type": "stream",
          "text": [
            "[100, 110, 120]\n"
          ],
          "name": "stdout"
        }
      ]
    },
    {
      "cell_type": "code",
      "metadata": {
        "colab": {
          "base_uri": "https://localhost:8080/"
        },
        "id": "F0ubbL6jfOXf",
        "outputId": "cf8644ed-a788-4c90-d55a-23df4b607dc6"
      },
      "source": [
        "altura_peso_idade = [181, #altura \n",
        "                     100, #peso\n",
        "                     40 ] #idade\n",
        "\n",
        "print(altura_peso_idade)          "
      ],
      "execution_count": 20,
      "outputs": [
        {
          "output_type": "stream",
          "text": [
            "[181, 100, 40]\n"
          ],
          "name": "stdout"
        }
      ]
    },
    {
      "cell_type": "code",
      "metadata": {
        "colab": {
          "base_uri": "https://localhost:8080/"
        },
        "id": "qBGKPhqPfY8I",
        "outputId": "48069aff-3736-43da-b228-0950938152ef"
      },
      "source": [
        "notasad = [10, #bimestre1\n",
        "           9,  #bimestre2\n",
        "           8,  #bimestre3\n",
        "           7 ] #bimestre4\n",
        "\n",
        "print(notasad)"
      ],
      "execution_count": 21,
      "outputs": [
        {
          "output_type": "stream",
          "text": [
            "[10, 9, 8, 7]\n"
          ],
          "name": "stdout"
        }
      ]
    },
    {
      "cell_type": "code",
      "metadata": {
        "colab": {
          "base_uri": "https://localhost:8080/"
        },
        "id": "MnloPONffs3E",
        "outputId": "f9667161-e9f9-4996-948c-ac0b6c7226a5"
      },
      "source": [
        "vetorfrutas = ['laranja, maça, banana']\n",
        "print(vetorfrutas)"
      ],
      "execution_count": 23,
      "outputs": [
        {
          "output_type": "stream",
          "text": [
            "['laranja, maça, banana']\n"
          ],
          "name": "stdout"
        }
      ]
    },
    {
      "cell_type": "code",
      "metadata": {
        "colab": {
          "base_uri": "https://localhost:8080/"
        },
        "id": "vn2gY-Vkc4vM",
        "outputId": "5df077fd-0c5d-4832-c42c-028fffd34fee"
      },
      "source": [
        "n = 100;\n",
        "vetordoprofcloves = []; #define um vetor vazio\n",
        "#for = para e append significa acrescentar/adicionar.\n",
        "for i in range(0, n, 10): # ou mais simples neste caso \"for i in range(n)\"\n",
        "  vetordoprofcloves.append(0+i); # anexe mais um elemento à lista\n",
        "\n",
        "# Imprime o vetor de uma só vez (na mesma linha)\n",
        "print('\\n O vetor: ', end=''); # informe o que vira impresso a seguir (na mesma linha devido ao parametro end='')\n",
        "print(vetordoprofcloves)\n",
        "\n",
        "# Imprimir vetor em linha única na forma \"(0, 0) (1, 1)...\"\n",
        "print('\\n Novamente o vetor impresso de 2 modos: '); # informe o que virá impresso a seguir (e \"quebre\" a linha)\n",
        "i = 0;\n",
        "for item in vetordoprofcloves : # item in vetor é um iterador, item começa em vetor[0], depois vetor [1] e assim por diante\n",
        "  print(\"(%2d, %2d) \" % (item, vetordoprofcloves[i]), end='');\n",
        "  i += 1;\n",
        "  print(); # quebre a linha\n",
        "  print('\\n Viu como é mais simples do você imaginava =)') # msg do professor."
      ],
      "execution_count": 19,
      "outputs": [
        {
          "output_type": "stream",
          "text": [
            "\n",
            " O vetor: [0, 10, 20, 30, 40, 50, 60, 70, 80, 90]\n",
            "\n",
            " Novamente o vetor impresso de 2 modos: \n",
            "( 0,  0) \n",
            "\n",
            " Viu como é mais simples do você imaginava =)\n",
            "(10, 10) \n",
            "\n",
            " Viu como é mais simples do você imaginava =)\n",
            "(20, 20) \n",
            "\n",
            " Viu como é mais simples do você imaginava =)\n",
            "(30, 30) \n",
            "\n",
            " Viu como é mais simples do você imaginava =)\n",
            "(40, 40) \n",
            "\n",
            " Viu como é mais simples do você imaginava =)\n",
            "(50, 50) \n",
            "\n",
            " Viu como é mais simples do você imaginava =)\n",
            "(60, 60) \n",
            "\n",
            " Viu como é mais simples do você imaginava =)\n",
            "(70, 70) \n",
            "\n",
            " Viu como é mais simples do você imaginava =)\n",
            "(80, 80) \n",
            "\n",
            " Viu como é mais simples do você imaginava =)\n",
            "(90, 90) \n",
            "\n",
            " Viu como é mais simples do você imaginava =)\n"
          ],
          "name": "stdout"
        }
      ]
    }
  ]
}