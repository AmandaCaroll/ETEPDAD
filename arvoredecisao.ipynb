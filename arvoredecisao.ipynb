{
  "nbformat": 4,
  "nbformat_minor": 0,
  "metadata": {
    "colab": {
      "name": "arvoredecisao.ipynb",
      "provenance": [],
      "authorship_tag": "ABX9TyOPFIjtoLWNdAbzPZaJBniB",
      "include_colab_link": true
    },
    "kernelspec": {
      "name": "python3",
      "display_name": "Python 3"
    }
  },
  "cells": [
    {
      "cell_type": "markdown",
      "metadata": {
        "id": "view-in-github",
        "colab_type": "text"
      },
      "source": [
        "<a href=\"https://colab.research.google.com/github/clovesrocha/ETEPDAD/blob/master/arvoredecisao.ipynb\" target=\"_parent\"><img src=\"https://colab.research.google.com/assets/colab-badge.svg\" alt=\"Open In Colab\"/></a>"
      ]
    },
    {
      "cell_type": "code",
      "metadata": {
        "id": "nruaS2I3mieR",
        "colab": {
          "base_uri": "https://localhost:8080/"
        },
        "outputId": "413132bd-8b92-4f93-d27d-8cec94a507d1"
      },
      "source": [
        "#Exemplo árvore decisão com Python e sklearn\n",
        "#Prof. Cloves Rocha IA, AP e AD\n",
        " \n",
        "from sklearn import tree\n",
        "\n",
        "# ÁREA DE TREINAMENTO \n",
        "features = [[100, 1], [150, 1],\n",
        "           [50, 0], [80, 0]]\n",
        "labels = [1,1 , 0, 0] # 0 é FRAUDE! e 1 NAO é FRAUDE!\n",
        "\n",
        "# O classificador encontra padrões nos dados de treinamento\n",
        "clf = tree.DecisionTreeClassifier() # instância do classificador \n",
        "clf = clf.fit(features, labels) # fit encontra padrões nos dados\n",
        "\n",
        "# iremos utilizar para classificar um bom pagador!\n",
        "print(clf.predict([[15, 10]]))"
      ],
      "execution_count": 107,
      "outputs": [
        {
          "output_type": "stream",
          "text": [
            "[0]\n"
          ],
          "name": "stdout"
        }
      ]
    },
    {
      "cell_type": "code",
      "metadata": {
        "id": "m0-YS4BFtMNs"
      },
      "source": [
        ""
      ],
      "execution_count": null,
      "outputs": []
    },
    {
      "cell_type": "code",
      "metadata": {
        "id": "OpnEKW6etNjM"
      },
      "source": [
        ""
      ],
      "execution_count": null,
      "outputs": []
    }
  ]
}